{
 "metadata": {
  "language_info": {
   "codemirror_mode": {
    "name": "ipython",
    "version": 3
   },
   "file_extension": ".py",
   "mimetype": "text/x-python",
   "name": "python",
   "nbconvert_exporter": "python",
   "pygments_lexer": "ipython3",
   "version": "3.8.5"
  },
  "orig_nbformat": 4,
  "kernelspec": {
   "name": "python3",
   "display_name": "Python 3.8.5 64-bit ('base': conda)"
  },
  "interpreter": {
   "hash": "ecfa63b96582461c8bb09ef7882650c11fd38af380cc5e83709fdd5945a664c6"
  }
 },
 "nbformat": 4,
 "nbformat_minor": 2,
 "cells": [
  {
   "source": [
    "# Equibirium Model\n",
    "\n",
    "This class of models follows the formula\n",
    "\n",
    "$$\\min_{\\lambda=(\\gamma, \\theta)} = \\sum_{i=1}^n E_i(w_i(\\gamma), \\theta)$$\n",
    "$$w_i(\\gamma) = \\phi_i(w_i(\\gamma),\\gamma), \\quad i = 1\\dots n$$\n",
    "\n",
    "The experiment in the paper studies\n",
    "$$\\phi_i(w_i, \\gamma)=\\tanh(Aw_i + B x_i + c)$$"
   ],
   "cell_type": "markdown",
   "metadata": {}
  },
  {
   "cell_type": "code",
   "execution_count": 1,
   "metadata": {},
   "outputs": [],
   "source": [
    "import torch\n",
    "import torch.nn as nn\n"
   ]
  },
  {
   "cell_type": "code",
   "execution_count": 46,
   "metadata": {},
   "outputs": [],
   "source": [
    "class HouseHolderMatrix(nn.Module):\n",
    "    \"\"\"Construct A in Householder transformation to make the contraction for the dynamic\"\"\"\n",
    "\n",
    "    def __init__(self, n_dims, rank=3):\n",
    "        super().__init__()\n",
    "        self.n_dims = n_dims\n",
    "        self.vectors = nn.ParameterList()\n",
    "        for _ in range(rank):\n",
    "            self.vectors.append(nn.Parameter(torch.randn(n_dims, 1)))\n",
    "        self.register_buffer(\"eye\", torch.eye(n_dims))\n",
    "    \n",
    "    def forward(self):\n",
    "        householder_matrices = [self.householder(v) for v in self.vectors]\n",
    "        if len(self.vectors) == 1:\n",
    "            return householder_matrices[0]\n",
    "        ret = householder_matrices[0]\n",
    "        for matrix in householder_matrices[1:]:\n",
    "            ret = ret @ matrix\n",
    "        return ret\n",
    "\n",
    "    \n",
    "    def householder(self, v):\n",
    "        return self.eye - 2.* v @ v.t() / torch.norm(v) ** 2\n",
    "\n",
    "\n"
   ]
  },
  {
   "cell_type": "code",
   "execution_count": 44,
   "metadata": {},
   "outputs": [
    {
     "output_type": "execute_result",
     "data": {
      "text/plain": [
       "tensor([[ 0.6030, -0.0686, -0.7948],\n",
       "        [ 0.7575, -0.2630,  0.5975],\n",
       "        [-0.2500, -0.9623, -0.1066]], grad_fn=<MmBackward>)"
      ]
     },
     "metadata": {},
     "execution_count": 44
    }
   ],
   "source": [
    "class MatrixA(nn.Module):\n",
    "\n",
    "    def __init__(self, n_dims, rank=3):\n",
    "        super().__init__()\n",
    "        self.householder = HouseHolderMatrix(n_dims, rank)\n",
    "        self.diag = nn.Parameter(torch.randn(n_dims, ))\n",
    "    \n",
    "    def forward(self):\n",
    "        raise NotImplementedError"
   ]
  },
  {
   "cell_type": "code",
   "execution_count": 45,
   "metadata": {},
   "outputs": [
    {
     "output_type": "execute_result",
     "data": {
      "text/plain": [
       "tensor([[ 1.0000e+00, -3.7253e-08,  2.9802e-08],\n",
       "        [-3.7253e-08,  1.0000e+00, -5.9605e-08],\n",
       "        [ 2.9802e-08, -5.9605e-08,  1.0000e+00]], grad_fn=<MmBackward>)"
      ]
     },
     "metadata": {},
     "execution_count": 45
    }
   ],
   "source": [
    "A()@A().t()"
   ]
  },
  {
   "cell_type": "code",
   "execution_count": null,
   "metadata": {},
   "outputs": [],
   "source": [
    "class Core(nn.Module):\n",
    "\n",
    "    def __init__(self, input_dim, hidden_dim):\n",
    "        super().__init__()\n",
    "        self.input_dim = input_dim\n",
    "        self.hidden_dim = hidden_dim\n",
    "\n",
    "        self.A = nn.Linear(hidden_dim, hidden_dim)\n",
    "        self.B = nn.Linear(input_dim, hidden_dim)\n",
    "\n",
    "    def forward(self, x, w):\n",
    "        return torch.tanh(self.A(w) + self.B(x))\n",
    "    \n"
   ]
  }
 ]
}